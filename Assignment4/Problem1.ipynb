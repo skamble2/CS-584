{
 "cells": [
  {
   "cell_type": "markdown",
   "id": "a205413e",
   "metadata": {},
   "source": [
    "Problem 1 (15 Points): Nonnegative Matrix Factorization"
   ]
  },
  {
   "cell_type": "code",
   "execution_count": 126,
   "id": "09e51f4f",
   "metadata": {},
   "outputs": [],
   "source": [
    "import numpy as np\n",
    "from sklearn.decomposition import NMF"
   ]
  },
  {
   "cell_type": "code",
   "execution_count": 127,
   "id": "27cf256b",
   "metadata": {},
   "outputs": [],
   "source": [
    "A = [[4,6,5], [1,2,3], [7,10,7], [6,8,4], [6,10,11]]"
   ]
  },
  {
   "cell_type": "code",
   "execution_count": 128,
   "id": "6a132bec",
   "metadata": {},
   "outputs": [],
   "source": [
    "A = np.array(A)\n",
    "nonNegFact = NMF(n_components=2, init='random', random_state=0)"
   ]
  },
  {
   "cell_type": "code",
   "execution_count": 129,
   "id": "de2ad91c",
   "metadata": {},
   "outputs": [],
   "source": [
    "err = []\n",
    "W = []\n",
    "H = []"
   ]
  },
  {
   "cell_type": "code",
   "execution_count": 130,
   "id": "4a418f4a",
   "metadata": {},
   "outputs": [
    {
     "name": "stderr",
     "output_type": "stream",
     "text": [
      "/Users/amaterasu/anaconda3/lib/python3.11/site-packages/sklearn/decomposition/_nmf.py:1710: ConvergenceWarning: Maximum number of iterations 1 reached. Increase it to improve convergence.\n",
      "  warnings.warn(\n",
      "/Users/amaterasu/anaconda3/lib/python3.11/site-packages/sklearn/decomposition/_nmf.py:1710: ConvergenceWarning: Maximum number of iterations 2 reached. Increase it to improve convergence.\n",
      "  warnings.warn(\n",
      "/Users/amaterasu/anaconda3/lib/python3.11/site-packages/sklearn/decomposition/_nmf.py:1710: ConvergenceWarning: Maximum number of iterations 3 reached. Increase it to improve convergence.\n",
      "  warnings.warn(\n",
      "/Users/amaterasu/anaconda3/lib/python3.11/site-packages/sklearn/decomposition/_nmf.py:1710: ConvergenceWarning: Maximum number of iterations 4 reached. Increase it to improve convergence.\n",
      "  warnings.warn(\n",
      "/Users/amaterasu/anaconda3/lib/python3.11/site-packages/sklearn/decomposition/_nmf.py:1710: ConvergenceWarning: Maximum number of iterations 5 reached. Increase it to improve convergence.\n",
      "  warnings.warn(\n",
      "/Users/amaterasu/anaconda3/lib/python3.11/site-packages/sklearn/decomposition/_nmf.py:1710: ConvergenceWarning: Maximum number of iterations 6 reached. Increase it to improve convergence.\n",
      "  warnings.warn(\n",
      "/Users/amaterasu/anaconda3/lib/python3.11/site-packages/sklearn/decomposition/_nmf.py:1710: ConvergenceWarning: Maximum number of iterations 7 reached. Increase it to improve convergence.\n",
      "  warnings.warn(\n",
      "/Users/amaterasu/anaconda3/lib/python3.11/site-packages/sklearn/decomposition/_nmf.py:1710: ConvergenceWarning: Maximum number of iterations 8 reached. Increase it to improve convergence.\n",
      "  warnings.warn(\n",
      "/Users/amaterasu/anaconda3/lib/python3.11/site-packages/sklearn/decomposition/_nmf.py:1710: ConvergenceWarning: Maximum number of iterations 9 reached. Increase it to improve convergence.\n",
      "  warnings.warn(\n",
      "/Users/amaterasu/anaconda3/lib/python3.11/site-packages/sklearn/decomposition/_nmf.py:1710: ConvergenceWarning: Maximum number of iterations 10 reached. Increase it to improve convergence.\n",
      "  warnings.warn(\n",
      "/Users/amaterasu/anaconda3/lib/python3.11/site-packages/sklearn/decomposition/_nmf.py:1710: ConvergenceWarning: Maximum number of iterations 11 reached. Increase it to improve convergence.\n",
      "  warnings.warn(\n",
      "/Users/amaterasu/anaconda3/lib/python3.11/site-packages/sklearn/decomposition/_nmf.py:1710: ConvergenceWarning: Maximum number of iterations 12 reached. Increase it to improve convergence.\n",
      "  warnings.warn(\n",
      "/Users/amaterasu/anaconda3/lib/python3.11/site-packages/sklearn/decomposition/_nmf.py:1710: ConvergenceWarning: Maximum number of iterations 13 reached. Increase it to improve convergence.\n",
      "  warnings.warn(\n",
      "/Users/amaterasu/anaconda3/lib/python3.11/site-packages/sklearn/decomposition/_nmf.py:1710: ConvergenceWarning: Maximum number of iterations 14 reached. Increase it to improve convergence.\n",
      "  warnings.warn(\n",
      "/Users/amaterasu/anaconda3/lib/python3.11/site-packages/sklearn/decomposition/_nmf.py:1710: ConvergenceWarning: Maximum number of iterations 15 reached. Increase it to improve convergence.\n",
      "  warnings.warn(\n",
      "/Users/amaterasu/anaconda3/lib/python3.11/site-packages/sklearn/decomposition/_nmf.py:1710: ConvergenceWarning: Maximum number of iterations 16 reached. Increase it to improve convergence.\n",
      "  warnings.warn(\n",
      "/Users/amaterasu/anaconda3/lib/python3.11/site-packages/sklearn/decomposition/_nmf.py:1710: ConvergenceWarning: Maximum number of iterations 17 reached. Increase it to improve convergence.\n",
      "  warnings.warn(\n",
      "/Users/amaterasu/anaconda3/lib/python3.11/site-packages/sklearn/decomposition/_nmf.py:1710: ConvergenceWarning: Maximum number of iterations 18 reached. Increase it to improve convergence.\n",
      "  warnings.warn(\n",
      "/Users/amaterasu/anaconda3/lib/python3.11/site-packages/sklearn/decomposition/_nmf.py:1710: ConvergenceWarning: Maximum number of iterations 19 reached. Increase it to improve convergence.\n",
      "  warnings.warn(\n",
      "/Users/amaterasu/anaconda3/lib/python3.11/site-packages/sklearn/decomposition/_nmf.py:1710: ConvergenceWarning: Maximum number of iterations 20 reached. Increase it to improve convergence.\n",
      "  warnings.warn(\n",
      "/Users/amaterasu/anaconda3/lib/python3.11/site-packages/sklearn/decomposition/_nmf.py:1710: ConvergenceWarning: Maximum number of iterations 21 reached. Increase it to improve convergence.\n",
      "  warnings.warn(\n",
      "/Users/amaterasu/anaconda3/lib/python3.11/site-packages/sklearn/decomposition/_nmf.py:1710: ConvergenceWarning: Maximum number of iterations 22 reached. Increase it to improve convergence.\n",
      "  warnings.warn(\n",
      "/Users/amaterasu/anaconda3/lib/python3.11/site-packages/sklearn/decomposition/_nmf.py:1710: ConvergenceWarning: Maximum number of iterations 23 reached. Increase it to improve convergence.\n",
      "  warnings.warn(\n",
      "/Users/amaterasu/anaconda3/lib/python3.11/site-packages/sklearn/decomposition/_nmf.py:1710: ConvergenceWarning: Maximum number of iterations 24 reached. Increase it to improve convergence.\n",
      "  warnings.warn(\n",
      "/Users/amaterasu/anaconda3/lib/python3.11/site-packages/sklearn/decomposition/_nmf.py:1710: ConvergenceWarning: Maximum number of iterations 25 reached. Increase it to improve convergence.\n",
      "  warnings.warn(\n",
      "/Users/amaterasu/anaconda3/lib/python3.11/site-packages/sklearn/decomposition/_nmf.py:1710: ConvergenceWarning: Maximum number of iterations 26 reached. Increase it to improve convergence.\n",
      "  warnings.warn(\n",
      "/Users/amaterasu/anaconda3/lib/python3.11/site-packages/sklearn/decomposition/_nmf.py:1710: ConvergenceWarning: Maximum number of iterations 27 reached. Increase it to improve convergence.\n",
      "  warnings.warn(\n",
      "/Users/amaterasu/anaconda3/lib/python3.11/site-packages/sklearn/decomposition/_nmf.py:1710: ConvergenceWarning: Maximum number of iterations 28 reached. Increase it to improve convergence.\n",
      "  warnings.warn(\n",
      "/Users/amaterasu/anaconda3/lib/python3.11/site-packages/sklearn/decomposition/_nmf.py:1710: ConvergenceWarning: Maximum number of iterations 29 reached. Increase it to improve convergence.\n",
      "  warnings.warn(\n",
      "/Users/amaterasu/anaconda3/lib/python3.11/site-packages/sklearn/decomposition/_nmf.py:1710: ConvergenceWarning: Maximum number of iterations 30 reached. Increase it to improve convergence.\n",
      "  warnings.warn(\n",
      "/Users/amaterasu/anaconda3/lib/python3.11/site-packages/sklearn/decomposition/_nmf.py:1710: ConvergenceWarning: Maximum number of iterations 31 reached. Increase it to improve convergence.\n",
      "  warnings.warn(\n",
      "/Users/amaterasu/anaconda3/lib/python3.11/site-packages/sklearn/decomposition/_nmf.py:1710: ConvergenceWarning: Maximum number of iterations 32 reached. Increase it to improve convergence.\n",
      "  warnings.warn(\n",
      "/Users/amaterasu/anaconda3/lib/python3.11/site-packages/sklearn/decomposition/_nmf.py:1710: ConvergenceWarning: Maximum number of iterations 33 reached. Increase it to improve convergence.\n",
      "  warnings.warn(\n",
      "/Users/amaterasu/anaconda3/lib/python3.11/site-packages/sklearn/decomposition/_nmf.py:1710: ConvergenceWarning: Maximum number of iterations 34 reached. Increase it to improve convergence.\n",
      "  warnings.warn(\n",
      "/Users/amaterasu/anaconda3/lib/python3.11/site-packages/sklearn/decomposition/_nmf.py:1710: ConvergenceWarning: Maximum number of iterations 35 reached. Increase it to improve convergence.\n",
      "  warnings.warn(\n",
      "/Users/amaterasu/anaconda3/lib/python3.11/site-packages/sklearn/decomposition/_nmf.py:1710: ConvergenceWarning: Maximum number of iterations 36 reached. Increase it to improve convergence.\n",
      "  warnings.warn(\n",
      "/Users/amaterasu/anaconda3/lib/python3.11/site-packages/sklearn/decomposition/_nmf.py:1710: ConvergenceWarning: Maximum number of iterations 37 reached. Increase it to improve convergence.\n",
      "  warnings.warn(\n",
      "/Users/amaterasu/anaconda3/lib/python3.11/site-packages/sklearn/decomposition/_nmf.py:1710: ConvergenceWarning: Maximum number of iterations 38 reached. Increase it to improve convergence.\n",
      "  warnings.warn(\n",
      "/Users/amaterasu/anaconda3/lib/python3.11/site-packages/sklearn/decomposition/_nmf.py:1710: ConvergenceWarning: Maximum number of iterations 39 reached. Increase it to improve convergence.\n",
      "  warnings.warn(\n",
      "/Users/amaterasu/anaconda3/lib/python3.11/site-packages/sklearn/decomposition/_nmf.py:1710: ConvergenceWarning: Maximum number of iterations 40 reached. Increase it to improve convergence.\n",
      "  warnings.warn(\n",
      "/Users/amaterasu/anaconda3/lib/python3.11/site-packages/sklearn/decomposition/_nmf.py:1710: ConvergenceWarning: Maximum number of iterations 41 reached. Increase it to improve convergence.\n",
      "  warnings.warn(\n",
      "/Users/amaterasu/anaconda3/lib/python3.11/site-packages/sklearn/decomposition/_nmf.py:1710: ConvergenceWarning: Maximum number of iterations 42 reached. Increase it to improve convergence.\n",
      "  warnings.warn(\n",
      "/Users/amaterasu/anaconda3/lib/python3.11/site-packages/sklearn/decomposition/_nmf.py:1710: ConvergenceWarning: Maximum number of iterations 43 reached. Increase it to improve convergence.\n",
      "  warnings.warn(\n",
      "/Users/amaterasu/anaconda3/lib/python3.11/site-packages/sklearn/decomposition/_nmf.py:1710: ConvergenceWarning: Maximum number of iterations 44 reached. Increase it to improve convergence.\n",
      "  warnings.warn(\n",
      "/Users/amaterasu/anaconda3/lib/python3.11/site-packages/sklearn/decomposition/_nmf.py:1710: ConvergenceWarning: Maximum number of iterations 45 reached. Increase it to improve convergence.\n",
      "  warnings.warn(\n",
      "/Users/amaterasu/anaconda3/lib/python3.11/site-packages/sklearn/decomposition/_nmf.py:1710: ConvergenceWarning: Maximum number of iterations 46 reached. Increase it to improve convergence.\n",
      "  warnings.warn(\n",
      "/Users/amaterasu/anaconda3/lib/python3.11/site-packages/sklearn/decomposition/_nmf.py:1710: ConvergenceWarning: Maximum number of iterations 47 reached. Increase it to improve convergence.\n",
      "  warnings.warn(\n",
      "/Users/amaterasu/anaconda3/lib/python3.11/site-packages/sklearn/decomposition/_nmf.py:1710: ConvergenceWarning: Maximum number of iterations 48 reached. Increase it to improve convergence.\n",
      "  warnings.warn(\n",
      "/Users/amaterasu/anaconda3/lib/python3.11/site-packages/sklearn/decomposition/_nmf.py:1710: ConvergenceWarning: Maximum number of iterations 49 reached. Increase it to improve convergence.\n",
      "  warnings.warn(\n",
      "/Users/amaterasu/anaconda3/lib/python3.11/site-packages/sklearn/decomposition/_nmf.py:1710: ConvergenceWarning: Maximum number of iterations 50 reached. Increase it to improve convergence.\n",
      "  warnings.warn(\n",
      "/Users/amaterasu/anaconda3/lib/python3.11/site-packages/sklearn/decomposition/_nmf.py:1710: ConvergenceWarning: Maximum number of iterations 51 reached. Increase it to improve convergence.\n",
      "  warnings.warn(\n",
      "/Users/amaterasu/anaconda3/lib/python3.11/site-packages/sklearn/decomposition/_nmf.py:1710: ConvergenceWarning: Maximum number of iterations 52 reached. Increase it to improve convergence.\n",
      "  warnings.warn(\n",
      "/Users/amaterasu/anaconda3/lib/python3.11/site-packages/sklearn/decomposition/_nmf.py:1710: ConvergenceWarning: Maximum number of iterations 53 reached. Increase it to improve convergence.\n",
      "  warnings.warn(\n",
      "/Users/amaterasu/anaconda3/lib/python3.11/site-packages/sklearn/decomposition/_nmf.py:1710: ConvergenceWarning: Maximum number of iterations 54 reached. Increase it to improve convergence.\n",
      "  warnings.warn(\n",
      "/Users/amaterasu/anaconda3/lib/python3.11/site-packages/sklearn/decomposition/_nmf.py:1710: ConvergenceWarning: Maximum number of iterations 55 reached. Increase it to improve convergence.\n",
      "  warnings.warn(\n",
      "/Users/amaterasu/anaconda3/lib/python3.11/site-packages/sklearn/decomposition/_nmf.py:1710: ConvergenceWarning: Maximum number of iterations 56 reached. Increase it to improve convergence.\n",
      "  warnings.warn(\n",
      "/Users/amaterasu/anaconda3/lib/python3.11/site-packages/sklearn/decomposition/_nmf.py:1710: ConvergenceWarning: Maximum number of iterations 57 reached. Increase it to improve convergence.\n",
      "  warnings.warn(\n",
      "/Users/amaterasu/anaconda3/lib/python3.11/site-packages/sklearn/decomposition/_nmf.py:1710: ConvergenceWarning: Maximum number of iterations 58 reached. Increase it to improve convergence.\n",
      "  warnings.warn(\n",
      "/Users/amaterasu/anaconda3/lib/python3.11/site-packages/sklearn/decomposition/_nmf.py:1710: ConvergenceWarning: Maximum number of iterations 59 reached. Increase it to improve convergence.\n",
      "  warnings.warn(\n",
      "/Users/amaterasu/anaconda3/lib/python3.11/site-packages/sklearn/decomposition/_nmf.py:1710: ConvergenceWarning: Maximum number of iterations 60 reached. Increase it to improve convergence.\n",
      "  warnings.warn(\n",
      "/Users/amaterasu/anaconda3/lib/python3.11/site-packages/sklearn/decomposition/_nmf.py:1710: ConvergenceWarning: Maximum number of iterations 61 reached. Increase it to improve convergence.\n",
      "  warnings.warn(\n",
      "/Users/amaterasu/anaconda3/lib/python3.11/site-packages/sklearn/decomposition/_nmf.py:1710: ConvergenceWarning: Maximum number of iterations 62 reached. Increase it to improve convergence.\n",
      "  warnings.warn(\n",
      "/Users/amaterasu/anaconda3/lib/python3.11/site-packages/sklearn/decomposition/_nmf.py:1710: ConvergenceWarning: Maximum number of iterations 63 reached. Increase it to improve convergence.\n",
      "  warnings.warn(\n",
      "/Users/amaterasu/anaconda3/lib/python3.11/site-packages/sklearn/decomposition/_nmf.py:1710: ConvergenceWarning: Maximum number of iterations 64 reached. Increase it to improve convergence.\n",
      "  warnings.warn(\n",
      "/Users/amaterasu/anaconda3/lib/python3.11/site-packages/sklearn/decomposition/_nmf.py:1710: ConvergenceWarning: Maximum number of iterations 65 reached. Increase it to improve convergence.\n",
      "  warnings.warn(\n",
      "/Users/amaterasu/anaconda3/lib/python3.11/site-packages/sklearn/decomposition/_nmf.py:1710: ConvergenceWarning: Maximum number of iterations 66 reached. Increase it to improve convergence.\n",
      "  warnings.warn(\n",
      "/Users/amaterasu/anaconda3/lib/python3.11/site-packages/sklearn/decomposition/_nmf.py:1710: ConvergenceWarning: Maximum number of iterations 67 reached. Increase it to improve convergence.\n",
      "  warnings.warn(\n",
      "/Users/amaterasu/anaconda3/lib/python3.11/site-packages/sklearn/decomposition/_nmf.py:1710: ConvergenceWarning: Maximum number of iterations 68 reached. Increase it to improve convergence.\n",
      "  warnings.warn(\n",
      "/Users/amaterasu/anaconda3/lib/python3.11/site-packages/sklearn/decomposition/_nmf.py:1710: ConvergenceWarning: Maximum number of iterations 69 reached. Increase it to improve convergence.\n",
      "  warnings.warn(\n",
      "/Users/amaterasu/anaconda3/lib/python3.11/site-packages/sklearn/decomposition/_nmf.py:1710: ConvergenceWarning: Maximum number of iterations 70 reached. Increase it to improve convergence.\n",
      "  warnings.warn(\n",
      "/Users/amaterasu/anaconda3/lib/python3.11/site-packages/sklearn/decomposition/_nmf.py:1710: ConvergenceWarning: Maximum number of iterations 71 reached. Increase it to improve convergence.\n",
      "  warnings.warn(\n",
      "/Users/amaterasu/anaconda3/lib/python3.11/site-packages/sklearn/decomposition/_nmf.py:1710: ConvergenceWarning: Maximum number of iterations 72 reached. Increase it to improve convergence.\n",
      "  warnings.warn(\n",
      "/Users/amaterasu/anaconda3/lib/python3.11/site-packages/sklearn/decomposition/_nmf.py:1710: ConvergenceWarning: Maximum number of iterations 73 reached. Increase it to improve convergence.\n",
      "  warnings.warn(\n",
      "/Users/amaterasu/anaconda3/lib/python3.11/site-packages/sklearn/decomposition/_nmf.py:1710: ConvergenceWarning: Maximum number of iterations 74 reached. Increase it to improve convergence.\n",
      "  warnings.warn(\n",
      "/Users/amaterasu/anaconda3/lib/python3.11/site-packages/sklearn/decomposition/_nmf.py:1710: ConvergenceWarning: Maximum number of iterations 75 reached. Increase it to improve convergence.\n",
      "  warnings.warn(\n",
      "/Users/amaterasu/anaconda3/lib/python3.11/site-packages/sklearn/decomposition/_nmf.py:1710: ConvergenceWarning: Maximum number of iterations 76 reached. Increase it to improve convergence.\n",
      "  warnings.warn(\n",
      "/Users/amaterasu/anaconda3/lib/python3.11/site-packages/sklearn/decomposition/_nmf.py:1710: ConvergenceWarning: Maximum number of iterations 77 reached. Increase it to improve convergence.\n",
      "  warnings.warn(\n",
      "/Users/amaterasu/anaconda3/lib/python3.11/site-packages/sklearn/decomposition/_nmf.py:1710: ConvergenceWarning: Maximum number of iterations 78 reached. Increase it to improve convergence.\n",
      "  warnings.warn(\n",
      "/Users/amaterasu/anaconda3/lib/python3.11/site-packages/sklearn/decomposition/_nmf.py:1710: ConvergenceWarning: Maximum number of iterations 79 reached. Increase it to improve convergence.\n",
      "  warnings.warn(\n",
      "/Users/amaterasu/anaconda3/lib/python3.11/site-packages/sklearn/decomposition/_nmf.py:1710: ConvergenceWarning: Maximum number of iterations 80 reached. Increase it to improve convergence.\n",
      "  warnings.warn(\n",
      "/Users/amaterasu/anaconda3/lib/python3.11/site-packages/sklearn/decomposition/_nmf.py:1710: ConvergenceWarning: Maximum number of iterations 81 reached. Increase it to improve convergence.\n",
      "  warnings.warn(\n",
      "/Users/amaterasu/anaconda3/lib/python3.11/site-packages/sklearn/decomposition/_nmf.py:1710: ConvergenceWarning: Maximum number of iterations 82 reached. Increase it to improve convergence.\n",
      "  warnings.warn(\n",
      "/Users/amaterasu/anaconda3/lib/python3.11/site-packages/sklearn/decomposition/_nmf.py:1710: ConvergenceWarning: Maximum number of iterations 83 reached. Increase it to improve convergence.\n",
      "  warnings.warn(\n",
      "/Users/amaterasu/anaconda3/lib/python3.11/site-packages/sklearn/decomposition/_nmf.py:1710: ConvergenceWarning: Maximum number of iterations 84 reached. Increase it to improve convergence.\n",
      "  warnings.warn(\n",
      "/Users/amaterasu/anaconda3/lib/python3.11/site-packages/sklearn/decomposition/_nmf.py:1710: ConvergenceWarning: Maximum number of iterations 85 reached. Increase it to improve convergence.\n",
      "  warnings.warn(\n",
      "/Users/amaterasu/anaconda3/lib/python3.11/site-packages/sklearn/decomposition/_nmf.py:1710: ConvergenceWarning: Maximum number of iterations 86 reached. Increase it to improve convergence.\n",
      "  warnings.warn(\n",
      "/Users/amaterasu/anaconda3/lib/python3.11/site-packages/sklearn/decomposition/_nmf.py:1710: ConvergenceWarning: Maximum number of iterations 87 reached. Increase it to improve convergence.\n",
      "  warnings.warn(\n",
      "/Users/amaterasu/anaconda3/lib/python3.11/site-packages/sklearn/decomposition/_nmf.py:1710: ConvergenceWarning: Maximum number of iterations 88 reached. Increase it to improve convergence.\n",
      "  warnings.warn(\n",
      "/Users/amaterasu/anaconda3/lib/python3.11/site-packages/sklearn/decomposition/_nmf.py:1710: ConvergenceWarning: Maximum number of iterations 89 reached. Increase it to improve convergence.\n",
      "  warnings.warn(\n",
      "/Users/amaterasu/anaconda3/lib/python3.11/site-packages/sklearn/decomposition/_nmf.py:1710: ConvergenceWarning: Maximum number of iterations 90 reached. Increase it to improve convergence.\n",
      "  warnings.warn(\n",
      "/Users/amaterasu/anaconda3/lib/python3.11/site-packages/sklearn/decomposition/_nmf.py:1710: ConvergenceWarning: Maximum number of iterations 91 reached. Increase it to improve convergence.\n",
      "  warnings.warn(\n",
      "/Users/amaterasu/anaconda3/lib/python3.11/site-packages/sklearn/decomposition/_nmf.py:1710: ConvergenceWarning: Maximum number of iterations 92 reached. Increase it to improve convergence.\n",
      "  warnings.warn(\n",
      "/Users/amaterasu/anaconda3/lib/python3.11/site-packages/sklearn/decomposition/_nmf.py:1710: ConvergenceWarning: Maximum number of iterations 93 reached. Increase it to improve convergence.\n",
      "  warnings.warn(\n",
      "/Users/amaterasu/anaconda3/lib/python3.11/site-packages/sklearn/decomposition/_nmf.py:1710: ConvergenceWarning: Maximum number of iterations 94 reached. Increase it to improve convergence.\n",
      "  warnings.warn(\n",
      "/Users/amaterasu/anaconda3/lib/python3.11/site-packages/sklearn/decomposition/_nmf.py:1710: ConvergenceWarning: Maximum number of iterations 95 reached. Increase it to improve convergence.\n",
      "  warnings.warn(\n",
      "/Users/amaterasu/anaconda3/lib/python3.11/site-packages/sklearn/decomposition/_nmf.py:1710: ConvergenceWarning: Maximum number of iterations 96 reached. Increase it to improve convergence.\n",
      "  warnings.warn(\n",
      "/Users/amaterasu/anaconda3/lib/python3.11/site-packages/sklearn/decomposition/_nmf.py:1710: ConvergenceWarning: Maximum number of iterations 97 reached. Increase it to improve convergence.\n",
      "  warnings.warn(\n",
      "/Users/amaterasu/anaconda3/lib/python3.11/site-packages/sklearn/decomposition/_nmf.py:1710: ConvergenceWarning: Maximum number of iterations 98 reached. Increase it to improve convergence.\n",
      "  warnings.warn(\n",
      "/Users/amaterasu/anaconda3/lib/python3.11/site-packages/sklearn/decomposition/_nmf.py:1710: ConvergenceWarning: Maximum number of iterations 99 reached. Increase it to improve convergence.\n",
      "  warnings.warn(\n",
      "/Users/amaterasu/anaconda3/lib/python3.11/site-packages/sklearn/decomposition/_nmf.py:1710: ConvergenceWarning: Maximum number of iterations 100 reached. Increase it to improve convergence.\n",
      "  warnings.warn(\n",
      "/Users/amaterasu/anaconda3/lib/python3.11/site-packages/sklearn/decomposition/_nmf.py:1710: ConvergenceWarning: Maximum number of iterations 101 reached. Increase it to improve convergence.\n",
      "  warnings.warn(\n",
      "/Users/amaterasu/anaconda3/lib/python3.11/site-packages/sklearn/decomposition/_nmf.py:1710: ConvergenceWarning: Maximum number of iterations 102 reached. Increase it to improve convergence.\n",
      "  warnings.warn(\n",
      "/Users/amaterasu/anaconda3/lib/python3.11/site-packages/sklearn/decomposition/_nmf.py:1710: ConvergenceWarning: Maximum number of iterations 103 reached. Increase it to improve convergence.\n",
      "  warnings.warn(\n",
      "/Users/amaterasu/anaconda3/lib/python3.11/site-packages/sklearn/decomposition/_nmf.py:1710: ConvergenceWarning: Maximum number of iterations 104 reached. Increase it to improve convergence.\n",
      "  warnings.warn(\n",
      "/Users/amaterasu/anaconda3/lib/python3.11/site-packages/sklearn/decomposition/_nmf.py:1710: ConvergenceWarning: Maximum number of iterations 105 reached. Increase it to improve convergence.\n",
      "  warnings.warn(\n",
      "/Users/amaterasu/anaconda3/lib/python3.11/site-packages/sklearn/decomposition/_nmf.py:1710: ConvergenceWarning: Maximum number of iterations 106 reached. Increase it to improve convergence.\n",
      "  warnings.warn(\n",
      "/Users/amaterasu/anaconda3/lib/python3.11/site-packages/sklearn/decomposition/_nmf.py:1710: ConvergenceWarning: Maximum number of iterations 107 reached. Increase it to improve convergence.\n",
      "  warnings.warn(\n",
      "/Users/amaterasu/anaconda3/lib/python3.11/site-packages/sklearn/decomposition/_nmf.py:1710: ConvergenceWarning: Maximum number of iterations 108 reached. Increase it to improve convergence.\n",
      "  warnings.warn(\n",
      "/Users/amaterasu/anaconda3/lib/python3.11/site-packages/sklearn/decomposition/_nmf.py:1710: ConvergenceWarning: Maximum number of iterations 109 reached. Increase it to improve convergence.\n",
      "  warnings.warn(\n",
      "/Users/amaterasu/anaconda3/lib/python3.11/site-packages/sklearn/decomposition/_nmf.py:1710: ConvergenceWarning: Maximum number of iterations 110 reached. Increase it to improve convergence.\n",
      "  warnings.warn(\n",
      "/Users/amaterasu/anaconda3/lib/python3.11/site-packages/sklearn/decomposition/_nmf.py:1710: ConvergenceWarning: Maximum number of iterations 111 reached. Increase it to improve convergence.\n",
      "  warnings.warn(\n",
      "/Users/amaterasu/anaconda3/lib/python3.11/site-packages/sklearn/decomposition/_nmf.py:1710: ConvergenceWarning: Maximum number of iterations 112 reached. Increase it to improve convergence.\n",
      "  warnings.warn(\n",
      "/Users/amaterasu/anaconda3/lib/python3.11/site-packages/sklearn/decomposition/_nmf.py:1710: ConvergenceWarning: Maximum number of iterations 113 reached. Increase it to improve convergence.\n",
      "  warnings.warn(\n",
      "/Users/amaterasu/anaconda3/lib/python3.11/site-packages/sklearn/decomposition/_nmf.py:1710: ConvergenceWarning: Maximum number of iterations 114 reached. Increase it to improve convergence.\n",
      "  warnings.warn(\n",
      "/Users/amaterasu/anaconda3/lib/python3.11/site-packages/sklearn/decomposition/_nmf.py:1710: ConvergenceWarning: Maximum number of iterations 115 reached. Increase it to improve convergence.\n",
      "  warnings.warn(\n",
      "/Users/amaterasu/anaconda3/lib/python3.11/site-packages/sklearn/decomposition/_nmf.py:1710: ConvergenceWarning: Maximum number of iterations 116 reached. Increase it to improve convergence.\n",
      "  warnings.warn(\n",
      "/Users/amaterasu/anaconda3/lib/python3.11/site-packages/sklearn/decomposition/_nmf.py:1710: ConvergenceWarning: Maximum number of iterations 117 reached. Increase it to improve convergence.\n",
      "  warnings.warn(\n",
      "/Users/amaterasu/anaconda3/lib/python3.11/site-packages/sklearn/decomposition/_nmf.py:1710: ConvergenceWarning: Maximum number of iterations 118 reached. Increase it to improve convergence.\n",
      "  warnings.warn(\n",
      "/Users/amaterasu/anaconda3/lib/python3.11/site-packages/sklearn/decomposition/_nmf.py:1710: ConvergenceWarning: Maximum number of iterations 119 reached. Increase it to improve convergence.\n",
      "  warnings.warn(\n",
      "/Users/amaterasu/anaconda3/lib/python3.11/site-packages/sklearn/decomposition/_nmf.py:1710: ConvergenceWarning: Maximum number of iterations 120 reached. Increase it to improve convergence.\n",
      "  warnings.warn(\n",
      "/Users/amaterasu/anaconda3/lib/python3.11/site-packages/sklearn/decomposition/_nmf.py:1710: ConvergenceWarning: Maximum number of iterations 121 reached. Increase it to improve convergence.\n",
      "  warnings.warn(\n",
      "/Users/amaterasu/anaconda3/lib/python3.11/site-packages/sklearn/decomposition/_nmf.py:1710: ConvergenceWarning: Maximum number of iterations 122 reached. Increase it to improve convergence.\n",
      "  warnings.warn(\n",
      "/Users/amaterasu/anaconda3/lib/python3.11/site-packages/sklearn/decomposition/_nmf.py:1710: ConvergenceWarning: Maximum number of iterations 123 reached. Increase it to improve convergence.\n",
      "  warnings.warn(\n",
      "/Users/amaterasu/anaconda3/lib/python3.11/site-packages/sklearn/decomposition/_nmf.py:1710: ConvergenceWarning: Maximum number of iterations 124 reached. Increase it to improve convergence.\n",
      "  warnings.warn(\n",
      "/Users/amaterasu/anaconda3/lib/python3.11/site-packages/sklearn/decomposition/_nmf.py:1710: ConvergenceWarning: Maximum number of iterations 125 reached. Increase it to improve convergence.\n",
      "  warnings.warn(\n",
      "/Users/amaterasu/anaconda3/lib/python3.11/site-packages/sklearn/decomposition/_nmf.py:1710: ConvergenceWarning: Maximum number of iterations 126 reached. Increase it to improve convergence.\n",
      "  warnings.warn(\n",
      "/Users/amaterasu/anaconda3/lib/python3.11/site-packages/sklearn/decomposition/_nmf.py:1710: ConvergenceWarning: Maximum number of iterations 127 reached. Increase it to improve convergence.\n",
      "  warnings.warn(\n",
      "/Users/amaterasu/anaconda3/lib/python3.11/site-packages/sklearn/decomposition/_nmf.py:1710: ConvergenceWarning: Maximum number of iterations 128 reached. Increase it to improve convergence.\n",
      "  warnings.warn(\n",
      "/Users/amaterasu/anaconda3/lib/python3.11/site-packages/sklearn/decomposition/_nmf.py:1710: ConvergenceWarning: Maximum number of iterations 129 reached. Increase it to improve convergence.\n",
      "  warnings.warn(\n",
      "/Users/amaterasu/anaconda3/lib/python3.11/site-packages/sklearn/decomposition/_nmf.py:1710: ConvergenceWarning: Maximum number of iterations 130 reached. Increase it to improve convergence.\n",
      "  warnings.warn(\n",
      "/Users/amaterasu/anaconda3/lib/python3.11/site-packages/sklearn/decomposition/_nmf.py:1710: ConvergenceWarning: Maximum number of iterations 131 reached. Increase it to improve convergence.\n",
      "  warnings.warn(\n",
      "/Users/amaterasu/anaconda3/lib/python3.11/site-packages/sklearn/decomposition/_nmf.py:1710: ConvergenceWarning: Maximum number of iterations 132 reached. Increase it to improve convergence.\n",
      "  warnings.warn(\n",
      "/Users/amaterasu/anaconda3/lib/python3.11/site-packages/sklearn/decomposition/_nmf.py:1710: ConvergenceWarning: Maximum number of iterations 133 reached. Increase it to improve convergence.\n",
      "  warnings.warn(\n",
      "/Users/amaterasu/anaconda3/lib/python3.11/site-packages/sklearn/decomposition/_nmf.py:1710: ConvergenceWarning: Maximum number of iterations 134 reached. Increase it to improve convergence.\n",
      "  warnings.warn(\n",
      "/Users/amaterasu/anaconda3/lib/python3.11/site-packages/sklearn/decomposition/_nmf.py:1710: ConvergenceWarning: Maximum number of iterations 135 reached. Increase it to improve convergence.\n",
      "  warnings.warn(\n",
      "/Users/amaterasu/anaconda3/lib/python3.11/site-packages/sklearn/decomposition/_nmf.py:1710: ConvergenceWarning: Maximum number of iterations 136 reached. Increase it to improve convergence.\n",
      "  warnings.warn(\n",
      "/Users/amaterasu/anaconda3/lib/python3.11/site-packages/sklearn/decomposition/_nmf.py:1710: ConvergenceWarning: Maximum number of iterations 137 reached. Increase it to improve convergence.\n",
      "  warnings.warn(\n",
      "/Users/amaterasu/anaconda3/lib/python3.11/site-packages/sklearn/decomposition/_nmf.py:1710: ConvergenceWarning: Maximum number of iterations 138 reached. Increase it to improve convergence.\n",
      "  warnings.warn(\n",
      "/Users/amaterasu/anaconda3/lib/python3.11/site-packages/sklearn/decomposition/_nmf.py:1710: ConvergenceWarning: Maximum number of iterations 139 reached. Increase it to improve convergence.\n",
      "  warnings.warn(\n",
      "/Users/amaterasu/anaconda3/lib/python3.11/site-packages/sklearn/decomposition/_nmf.py:1710: ConvergenceWarning: Maximum number of iterations 140 reached. Increase it to improve convergence.\n",
      "  warnings.warn(\n",
      "/Users/amaterasu/anaconda3/lib/python3.11/site-packages/sklearn/decomposition/_nmf.py:1710: ConvergenceWarning: Maximum number of iterations 141 reached. Increase it to improve convergence.\n",
      "  warnings.warn(\n",
      "/Users/amaterasu/anaconda3/lib/python3.11/site-packages/sklearn/decomposition/_nmf.py:1710: ConvergenceWarning: Maximum number of iterations 142 reached. Increase it to improve convergence.\n",
      "  warnings.warn(\n",
      "/Users/amaterasu/anaconda3/lib/python3.11/site-packages/sklearn/decomposition/_nmf.py:1710: ConvergenceWarning: Maximum number of iterations 143 reached. Increase it to improve convergence.\n",
      "  warnings.warn(\n",
      "/Users/amaterasu/anaconda3/lib/python3.11/site-packages/sklearn/decomposition/_nmf.py:1710: ConvergenceWarning: Maximum number of iterations 144 reached. Increase it to improve convergence.\n",
      "  warnings.warn(\n",
      "/Users/amaterasu/anaconda3/lib/python3.11/site-packages/sklearn/decomposition/_nmf.py:1710: ConvergenceWarning: Maximum number of iterations 145 reached. Increase it to improve convergence.\n",
      "  warnings.warn(\n",
      "/Users/amaterasu/anaconda3/lib/python3.11/site-packages/sklearn/decomposition/_nmf.py:1710: ConvergenceWarning: Maximum number of iterations 146 reached. Increase it to improve convergence.\n",
      "  warnings.warn(\n",
      "/Users/amaterasu/anaconda3/lib/python3.11/site-packages/sklearn/decomposition/_nmf.py:1710: ConvergenceWarning: Maximum number of iterations 147 reached. Increase it to improve convergence.\n",
      "  warnings.warn(\n",
      "/Users/amaterasu/anaconda3/lib/python3.11/site-packages/sklearn/decomposition/_nmf.py:1710: ConvergenceWarning: Maximum number of iterations 148 reached. Increase it to improve convergence.\n",
      "  warnings.warn(\n",
      "/Users/amaterasu/anaconda3/lib/python3.11/site-packages/sklearn/decomposition/_nmf.py:1710: ConvergenceWarning: Maximum number of iterations 149 reached. Increase it to improve convergence.\n",
      "  warnings.warn(\n",
      "/Users/amaterasu/anaconda3/lib/python3.11/site-packages/sklearn/decomposition/_nmf.py:1710: ConvergenceWarning: Maximum number of iterations 150 reached. Increase it to improve convergence.\n",
      "  warnings.warn(\n",
      "/Users/amaterasu/anaconda3/lib/python3.11/site-packages/sklearn/decomposition/_nmf.py:1710: ConvergenceWarning: Maximum number of iterations 151 reached. Increase it to improve convergence.\n",
      "  warnings.warn(\n",
      "/Users/amaterasu/anaconda3/lib/python3.11/site-packages/sklearn/decomposition/_nmf.py:1710: ConvergenceWarning: Maximum number of iterations 152 reached. Increase it to improve convergence.\n",
      "  warnings.warn(\n",
      "/Users/amaterasu/anaconda3/lib/python3.11/site-packages/sklearn/decomposition/_nmf.py:1710: ConvergenceWarning: Maximum number of iterations 153 reached. Increase it to improve convergence.\n",
      "  warnings.warn(\n"
     ]
    }
   ],
   "source": [
    "for iter in range(1,nonNegFact.max_iter):\n",
    "  nmf = NMF(n_components=2, init='random', random_state=0,max_iter=iter)\n",
    "  W.append(nmf.fit_transform(A))\n",
    "  H.append(nmf.components_)\n",
    "  err.append(nmf.reconstruction_err_)\n",
    "WArray = W[nonNegFact.max_iter-2]\n",
    "HArray = H[nonNegFact.max_iter-2]"
   ]
  },
  {
   "cell_type": "code",
   "execution_count": 131,
   "id": "d0c4a52d",
   "metadata": {},
   "outputs": [],
   "source": [
    "import matplotlib.pyplot as plt"
   ]
  },
  {
   "cell_type": "code",
   "execution_count": 132,
   "id": "eddffd3e",
   "metadata": {},
   "outputs": [
    {
     "data": {
      "text/plain": [
       "[<matplotlib.lines.Line2D at 0x14f46de10>]"
      ]
     },
     "execution_count": 132,
     "metadata": {},
     "output_type": "execute_result"
    },
    {
     "data": {
      "image/png": "[encoded data removed]",
      "text/plain": [
       "<Figure size 800x600 with 1 Axes>"
      ]
     },
     "metadata": {},
     "output_type": "display_data"
    }
   ],
   "source": [
    "plt.figure(figsize=(8, 6))\n",
    "plt.grid(True)\n",
    "plt.title('Errors')\n",
    "plt.plot(err,color='b')"
   ]
  },
  {
   "cell_type": "code",
   "execution_count": 133,
   "id": "c21c7370",
   "metadata": {},
   "outputs": [
    {
     "name": "stdout",
     "output_type": "stream",
     "text": [
      "Number of Iteration: 1\n",
      "B:\n",
      " [[1.46777074 0.61343456]\n",
      " [0.21759395 0.467505  ]\n",
      " [0.08864142 2.48617261]\n",
      " [1.61566129 0.87288473]\n",
      " [2.78523149 0.96900795]] \n",
      " C\n",
      " [[1.37133098 2.43470929 2.49827937]\n",
      " [2.83883602 3.91295294 2.67830217]] \n",
      "\n",
      "Number of Iteration: 31\n",
      "B:\n",
      " [[1.0613425  0.89489017]\n",
      " [0.98002022 0.        ]\n",
      " [1.05497258 1.85614211]\n",
      " [0.         1.91501795]\n",
      " [3.1920987  0.76490991]] \n",
      " C\n",
      " [[1.11977768 2.12458302 2.95692985]\n",
      " [3.13723708 4.18125329 2.08543821]] \n",
      "\n",
      "Number of Iteration: 61\n",
      "B:\n",
      " [[1.05502073 0.910026  ]\n",
      " [1.00917016 0.        ]\n",
      " [1.06207402 1.84873416]\n",
      " [0.01410813 1.87741546]\n",
      " [3.15095508 0.85266198]] \n",
      " C\n",
      " [[1.03680769 2.02101048 2.92630594]\n",
      " [3.19115745 4.24838676 2.10472388]] \n",
      "\n",
      "Number of Iteration: 91\n",
      "B:\n",
      " [[1.05148947 0.91703746]\n",
      " [1.02322085 0.        ]\n",
      " [1.06349189 1.84592286]\n",
      " [0.02400484 1.8577708 ]\n",
      " [3.13046359 0.89334158]] \n",
      " C\n",
      " [[0.99661124 1.9712009  2.91275817]\n",
      " [3.21817549 4.28184213 2.11374547]] \n",
      "\n",
      "Number of Iteration: 121\n",
      "B:\n",
      " [[1.04995808 0.91993967]\n",
      " [1.02921153 0.        ]\n",
      " [1.06419419 1.84459214]\n",
      " [0.02847222 1.84930493]\n",
      " [3.12140201 0.91051408]] \n",
      " C\n",
      " [[0.97935841 1.94990548 2.90723554]\n",
      " [3.22995068 4.29637216 2.11749983]] \n",
      "\n",
      "Number of Iteration: 151\n",
      "B:\n",
      " [[1.04933681 0.92109463]\n",
      " [1.03162464 0.        ]\n",
      " [1.06449452 1.84403383]\n",
      " [0.03031543 1.8458784 ]\n",
      " [3.117695   0.91740548]] \n",
      " C\n",
      " [[0.97238452 1.94131199 2.90505387]\n",
      " [3.23474021 4.30227332 2.11899578]] \n",
      "\n",
      "Number of Iteration: 181\n",
      "B:\n",
      " [[1.04932442 0.92111753]\n",
      " [1.03167265 0.        ]\n",
      " [1.0645006  1.84402259]\n",
      " [0.03035236 1.84581012]\n",
      " [3.1176209  0.91754246]] \n",
      " C\n",
      " [[0.9722456  1.94114089 2.90501071]\n",
      " [3.23483579 4.30239103 2.11902545]] \n",
      "\n"
     ]
    }
   ],
   "source": [
    "for iter in range(1,nmf.max_iter,30):\n",
    "  print(\"Number of Iteration:\",iter)\n",
    "  print(\"B:\\n\", W[iter],\"\\n C\\n\", H[iter],\"\\n\")"
   ]
  },
  {
   "cell_type": "code",
   "execution_count": 134,
   "id": "cffba1b6",
   "metadata": {},
   "outputs": [
    {
     "data": {
      "text/plain": [
       "array([[ 4.,  6.,  5.],\n",
       "       [ 1.,  2.,  3.],\n",
       "       [ 7., 10.,  7.],\n",
       "       [ 6.,  8.,  4.],\n",
       "       [ 6., 10., 11.]])"
      ]
     },
     "execution_count": 134,
     "metadata": {},
     "output_type": "execute_result"
    }
   ],
   "source": [
    "np.round(WArray.dot(HArray),0)"
   ]
  },
  {
   "cell_type": "code",
   "execution_count": 135,
   "id": "5fda5fa7",
   "metadata": {},
   "outputs": [],
   "source": [
    "A = [[12,22,41,35], [19,20,13,48], [11,14,16,29], [14,16,14,36]]"
   ]
  },
  {
   "cell_type": "code",
   "execution_count": 136,
   "id": "909313f4",
   "metadata": {},
   "outputs": [
    {
     "data": {
      "text/plain": [
       "array([[11, 14, 16, 29],\n",
       "       [14, 16, 14, 36]])"
      ]
     },
     "execution_count": 136,
     "metadata": {},
     "output_type": "execute_result"
    }
   ],
   "source": [
    "A = np.array(A)\n",
    "eigenValues, eigenVectors =  np.linalg.eig(A)\n",
    "A[np.round(np.real(eigenValues),2)==0,:]"
   ]
  },
  {
   "cell_type": "code",
   "execution_count": 137,
   "id": "361e5114",
   "metadata": {},
   "outputs": [],
   "source": [
    "A = [[12,22,41,35],[19,20,13,48],[11,14,16,29],[14,16,14,36]]"
   ]
  },
  {
   "cell_type": "code",
   "execution_count": 138,
   "id": "65a97e4f",
   "metadata": {},
   "outputs": [],
   "source": [
    "A = np.array(A)\n",
    "nonNegtiveFactorial = NMF(n_components=2, init='random', random_state=0)\n",
    "B = nonNegtiveFactorial.fit_transform(A)\n",
    "C = nonNegtiveFactorial.components_"
   ]
  },
  {
   "cell_type": "code",
   "execution_count": null,
   "id": "234be738",
   "metadata": {},
   "outputs": [],
   "source": []
  },
  {
   "cell_type": "code",
   "execution_count": 139,
   "id": "72cecd51",
   "metadata": {},
   "outputs": [
    {
     "name": "stdout",
     "output_type": "stream",
     "text": [
      "B\n",
      " [[5.06811038 0.        ]\n",
      " [1.60705285 3.047195  ]\n",
      " [1.97808246 1.26663945]\n",
      " [1.73076573 1.98572031]] \n",
      "C\n",
      " [[ 2.36776385  4.34091181  8.08956141  6.9059836 ]\n",
      " [ 4.98655297  4.27400907  0.         12.11011047]] \n",
      "Reconstuction error: \n",
      " 0.0025719027077261924\n"
     ]
    }
   ],
   "source": [
    "print(\"B\\n\",B,\"\\nC\\n\",C,\"\\nReconstuction error: \\n\",nonNegtiveFactorial.reconstruction_err_)"
   ]
  },
  {
   "cell_type": "code",
   "execution_count": 140,
   "id": "8b38a759",
   "metadata": {},
   "outputs": [
    {
     "data": {
      "text/plain": [
       "array([[12.00008854, 22.00022021, 40.99879018, 35.00028718],\n",
       "       [19.00012093, 19.99981379, 13.00035271, 48.00014875],\n",
       "       [10.99979684, 14.00031001, 16.00181953, 28.99974868],\n",
       "       [13.99994402, 16.00008801, 14.00113563, 35.99993205]])"
      ]
     },
     "execution_count": 140,
     "metadata": {},
     "output_type": "execute_result"
    }
   ],
   "source": [
    "B.dot(C)"
   ]
  },
  {
   "cell_type": "code",
   "execution_count": 141,
   "id": "b82cfae5",
   "metadata": {},
   "outputs": [
    {
     "data": {
      "text/plain": [
       "array([[12., 22., 41., 35.],\n",
       "       [19., 20., 13., 48.],\n",
       "       [11., 14., 16., 29.],\n",
       "       [14., 16., 14., 36.]])"
      ]
     },
     "execution_count": 141,
     "metadata": {},
     "output_type": "execute_result"
    }
   ],
   "source": [
    "np.round(B.dot(C),2)"
   ]
  },
  {
   "cell_type": "code",
   "execution_count": 142,
   "id": "6a72156c",
   "metadata": {},
   "outputs": [
    {
     "name": "stdout",
     "output_type": "stream",
     "text": [
      "From the above result, it is clear that the non-negative factorization was accurate.\n"
     ]
    }
   ],
   "source": [
    "print(\"From the above result, it is clear that the non-negative factorization was accurate.\")"
   ]
  }
 ],
 "metadata": {
  "kernelspec": {
   "display_name": "Python 3 (ipykernel)",
   "language": "python",
   "name": "python3"
  },
  "language_info": {
   "codemirror_mode": {
    "name": "ipython",
    "version": 3
   },
   "file_extension": ".py",
   "mimetype": "text/x-python",
   "name": "python",
   "nbconvert_exporter": "python",
   "pygments_lexer": "ipython3",
   "version": "3.11.4"
  }
 },
 "nbformat": 4,
 "nbformat_minor": 5
}
