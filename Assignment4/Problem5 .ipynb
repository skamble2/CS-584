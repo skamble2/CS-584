{
  "cells": [
    {
      "cell_type": "markdown",
      "id": "4904b467",
      "metadata": {
        "id": "4904b467"
      },
      "source": [
        "Problem 5 (25 Points): Random Projections"
      ]
    },
    {
      "cell_type": "code",
      "execution_count": 8,
      "id": "4828b134",
      "metadata": {
        "id": "4828b134"
      },
      "outputs": [],
      "source": [
        "import numpy as np"
      ]
    },
    {
      "cell_type": "markdown",
      "id": "d99afd94",
      "metadata": {
        "id": "d99afd94"
      },
      "source": [
        "1. Construct any data matrix X of your choice with parameters n = 10, d = 5000 (For instance,\n",
        "this could be any n columns of the identity matrix Id×d). Fix ϵ = 0.1 and compute the embedding\n",
        "dimension m by plugging in the formula above."
      ]
    },
    {
      "cell_type": "code",
      "execution_count": 9,
      "id": "bc99c0d5",
      "metadata": {
        "id": "bc99c0d5"
      },
      "outputs": [],
      "source": [
        "matrix = np.identity(5000)\n",
        "i = np.random.choice(matrix.shape[1], 9, replace=False)\n",
        "X = matrix[i,:]"
      ]
    },
    {
      "cell_type": "code",
      "execution_count": 10,
      "id": "6b096f4d",
      "metadata": {
        "id": "6b096f4d"
      },
      "outputs": [],
      "source": [
        "n = 10\n",
        "e = 0.1"
      ]
    },
    {
      "cell_type": "code",
      "execution_count": 11,
      "id": "3621aed4",
      "metadata": {
        "colab": {
          "base_uri": "https://localhost:8080/"
        },
        "id": "3621aed4",
        "outputId": "498383d6-1667-47c6-d1b1-b1075eb69a0e"
      },
      "outputs": [
        {
          "output_type": "execute_result",
          "data": {
            "text/plain": [
              "1973"
            ]
          },
          "metadata": {},
          "execution_count": 11
        }
      ],
      "source": [
        "compute = (e**2 / 2) - (e**3 / 3)\n",
        "M = 4*(np.log(n))/compute\n",
        "M.astype(np.int64)"
      ]
    },
    {
      "cell_type": "code",
      "execution_count": 12,
      "id": "4e45ad32",
      "metadata": {
        "id": "4e45ad32"
      },
      "outputs": [],
      "source": [
        "from sklearn.random_projection import johnson_lindenstrauss_min_dim"
      ]
    },
    {
      "cell_type": "code",
      "execution_count": 13,
      "id": "5fccb017",
      "metadata": {
        "colab": {
          "base_uri": "https://localhost:8080/"
        },
        "id": "5fccb017",
        "outputId": "72c63af7-3630-4278-a66e-e40bf076581b"
      },
      "outputs": [
        {
          "output_type": "execute_result",
          "data": {
            "text/plain": [
              "1973"
            ]
          },
          "metadata": {},
          "execution_count": 13
        }
      ],
      "source": [
        "johnson_lindenstrauss_min_dim(n_samples=n, eps=0.1)"
      ]
    },
    {
      "cell_type": "markdown",
      "id": "6eaa3d5a",
      "metadata": {
        "id": "6eaa3d5a"
      },
      "source": [
        "2. Construct a random projection matrix A of size m × d, and compare all pairwise (squared)\n",
        "distances ∥u − v∥22\n",
        "with the distances between the projections∥Au − Av∥22\n",
        ". Does the Lemma hold (i.e.,\n",
        "for every pair of data points, is the projection distance is within 10% of the original distance)?"
      ]
    },
    {
      "cell_type": "code",
      "execution_count": 14,
      "id": "95b9d327",
      "metadata": {
        "id": "95b9d327"
      },
      "outputs": [],
      "source": [
        "from sklearn.random_projection import GaussianRandomProjection"
      ]
    },
    {
      "cell_type": "code",
      "execution_count": 15,
      "id": "222a78bf",
      "metadata": {
        "colab": {
          "base_uri": "https://localhost:8080/"
        },
        "id": "222a78bf",
        "outputId": "fc0200b3-9acc-4456-c882-ae22399ed625"
      },
      "outputs": [
        {
          "output_type": "execute_result",
          "data": {
            "text/plain": [
              "(9, 1883)"
            ]
          },
          "metadata": {},
          "execution_count": 15
        }
      ],
      "source": [
        "guassianProj = GaussianRandomProjection(n_components='auto',eps=0.1)\n",
        "array = guassianProj.fit_transform(X)\n",
        "array.shape"
      ]
    },
    {
      "cell_type": "code",
      "execution_count": 16,
      "id": "0fe58b74",
      "metadata": {
        "id": "0fe58b74"
      },
      "outputs": [],
      "source": [
        "from sklearn.metrics.pairwise import euclidean_distances"
      ]
    },
    {
      "cell_type": "code",
      "execution_count": 17,
      "id": "48953003",
      "metadata": {
        "id": "48953003"
      },
      "outputs": [],
      "source": [
        "XDistance = euclidean_distances(X)\n",
        "ArrDistance = euclidean_distances(array)\n",
        "XNArrDiff = abs(XDistance - ArrDistance)"
      ]
    },
    {
      "cell_type": "code",
      "execution_count": 18,
      "id": "36961e58",
      "metadata": {
        "id": "36961e58"
      },
      "outputs": [],
      "source": [
        "def JohnsonVal(initMatDis,projMatdDis,e):\n",
        "  flag = True\n",
        "  for p in range(0,len(initMatDis)):\n",
        "    for q in range(0,len(initMatDis[0])):\n",
        "      if ((1-e)*initMatDis[p][q] <= projMatdDis[p][q] <= (1+e)*initMatDis[p][q]):\n",
        "        continue\n",
        "      else:\n",
        "        flag = False\n",
        "        break\n",
        "  return \"Valid\" if flag else \"Invalid\""
      ]
    },
    {
      "cell_type": "code",
      "execution_count": 19,
      "id": "69a87510",
      "metadata": {
        "colab": {
          "base_uri": "https://localhost:8080/"
        },
        "id": "69a87510",
        "outputId": "dec48091-8ab2-44c0-df04-b881666e14ca"
      },
      "outputs": [
        {
          "output_type": "stream",
          "name": "stdout",
          "text": [
            "Valid\n"
          ]
        }
      ],
      "source": [
        "print(JohnsonVal(XDistance,ArrDistance,e))"
      ]
    },
    {
      "cell_type": "code",
      "execution_count": null,
      "id": "7b51e2c7",
      "metadata": {
        "colab": {
          "base_uri": "https://localhost:8080/"
        },
        "id": "7b51e2c7",
        "outputId": "cd601587-9bca-4cf7-ba84-cdaaf0b36a29"
      },
      "outputs": [
        {
          "output_type": "stream",
          "name": "stdout",
          "text": [
            "Valid d= 10000\n",
            "Valid d= 20000\n",
            "Valid d= 40000\n",
            "Valid d= 80000\n",
            "Valid d= 160000\n"
          ]
        }
      ],
      "source": [
        "num = 10\n",
        "dis = 5000\n",
        "e = 0.1\n",
        "identity = (e**2 / 2) - (e**3 / 3)\n",
        "M = 4*(np.log(num))/identity\n",
        "while True:\n",
        "  dis = dis * 2\n",
        "  matrix = np.identity(dis)\n",
        "  iden = np.random.choice(matrix.shape[1], 9, replace=False)\n",
        "  X = matrix[iden,:]\n",
        "  guassianProj = GaussianRandomProjection(n_components='auto',eps=0.1)\n",
        "  array = guassianProj.fit_transform(X)\n",
        "  XDistance = euclidean_distances(X)\n",
        "  ArrDistance = euclidean_distances(array)\n",
        "  XNArrDiff = abs(XDistance - ArrDistance)\n",
        "  print(JohnsonVal(XDistance,ArrDistance,e),\"d=\",dis)"
      ]
    },
    {
      "cell_type": "code",
      "execution_count": 20,
      "id": "6700a8ce",
      "metadata": {
        "colab": {
          "base_uri": "https://localhost:8080/"
        },
        "id": "6700a8ce",
        "outputId": "37643bc3-46e3-4927-f33f-442588c4c4ec"
      },
      "outputs": [
        {
          "output_type": "stream",
          "name": "stdout",
          "text": [
            "program terminated due to limitation computational resources(RAM)\n"
          ]
        }
      ],
      "source": [
        "print(\"program terminated due to limitation computational resources(RAM)\")"
      ]
    },
    {
      "cell_type": "code",
      "source": [
        "import numpy as np"
      ],
      "metadata": {
        "id": "qbovhFe0QeaB"
      },
      "id": "qbovhFe0QeaB",
      "execution_count": 21,
      "outputs": []
    },
    {
      "cell_type": "code",
      "source": [
        "dis = 5000\n",
        "n = 10\n",
        "e = 0.1\n",
        "id = (e**2 / 2) - (e**3 / 3)"
      ],
      "metadata": {
        "id": "SCB-ejYqQg4E"
      },
      "id": "SCB-ejYqQg4E",
      "execution_count": 22,
      "outputs": []
    },
    {
      "cell_type": "code",
      "source": [
        "while True:\n",
        "  n = n * 2\n",
        "  m = 4*(np.log(n))/id\n",
        "  matrix = np.identity(d)\n",
        "  iden = np.random.choice(matrix.shape[1], 9, replace=False)\n",
        "  X = matrix[iden,:]\n",
        "  guassianProj = GaussianRandomProjection(eps=0.1)\n",
        "  A = guassianProj.fit_transform(X)\n",
        "  XDist = euclidean_distances(X)\n",
        "  ArrDist = euclidean_distances(A)\n",
        "  diffOfArrNX = abs(XDist - ArrDist)\n",
        "  print(JohnsonVal(XDist,ArrDist,e),\"d=\",d,\"& n = \",n,\"m = \",m)"
      ],
      "metadata": {
        "colab": {
          "base_uri": "https://localhost:8080/",
          "height": 1000
        },
        "id": "kmlxZ1lYQiqV",
        "outputId": "81cc10b9-3e50-4ff5-a490-572e7f94bbaa"
      },
      "id": "kmlxZ1lYQiqV",
      "execution_count": 23,
      "outputs": [
        {
          "output_type": "stream",
          "name": "stdout",
          "text": [
            "Valid d= 5000 & n =  20 m =  2567.7705201891345\n",
            "Valid d= 5000 & n =  40 m =  3161.8966749548017\n",
            "Valid d= 5000 & n =  80 m =  3756.0228297204685\n",
            "Valid d= 5000 & n =  160 m =  4350.148984486136\n",
            "Valid d= 5000 & n =  320 m =  4944.275139251803\n",
            "Valid d= 5000 & n =  640 m =  5538.401294017471\n",
            "Valid d= 5000 & n =  1280 m =  6132.5274487831375\n",
            "Valid d= 5000 & n =  2560 m =  6726.653603548805\n",
            "Valid d= 5000 & n =  5120 m =  7320.779758314473\n",
            "Valid d= 5000 & n =  10240 m =  7914.90591308014\n",
            "Valid d= 5000 & n =  20480 m =  8509.032067845807\n",
            "Valid d= 5000 & n =  40960 m =  9103.158222611475\n",
            "Valid d= 5000 & n =  81920 m =  9697.284377377142\n",
            "Valid d= 5000 & n =  163840 m =  10291.410532142809\n",
            "Valid d= 5000 & n =  327680 m =  10885.536686908477\n",
            "Valid d= 5000 & n =  655360 m =  11479.662841674144\n",
            "Valid d= 5000 & n =  1310720 m =  12073.788996439811\n",
            "Valid d= 5000 & n =  2621440 m =  12667.915151205478\n",
            "Valid d= 5000 & n =  5242880 m =  13262.041305971145\n",
            "Valid d= 5000 & n =  10485760 m =  13856.167460736811\n",
            "Valid d= 5000 & n =  20971520 m =  14450.29361550248\n",
            "Valid d= 5000 & n =  41943040 m =  15044.419770268147\n",
            "Valid d= 5000 & n =  83886080 m =  15638.545925033815\n",
            "Valid d= 5000 & n =  167772160 m =  16232.67207979948\n",
            "Valid d= 5000 & n =  335544320 m =  16826.79823456515\n",
            "Valid d= 5000 & n =  671088640 m =  17420.924389330816\n",
            "Valid d= 5000 & n =  1342177280 m =  18015.050544096484\n",
            "Valid d= 5000 & n =  2684354560 m =  18609.17669886215\n",
            "Valid d= 5000 & n =  5368709120 m =  19203.302853627814\n",
            "Valid d= 5000 & n =  10737418240 m =  19797.429008393487\n",
            "Valid d= 5000 & n =  21474836480 m =  20391.55516315915\n",
            "Valid d= 5000 & n =  42949672960 m =  20985.68131792482\n",
            "Valid d= 5000 & n =  85899345920 m =  21579.807472690485\n",
            "Valid d= 5000 & n =  171798691840 m =  22173.933627456154\n",
            "Valid d= 5000 & n =  343597383680 m =  22768.05978222182\n",
            "Valid d= 5000 & n =  687194767360 m =  23362.185936987487\n",
            "Valid d= 5000 & n =  1374389534720 m =  23956.312091753156\n",
            "Valid d= 5000 & n =  2748779069440 m =  24550.438246518825\n",
            "Valid d= 5000 & n =  5497558138880 m =  25144.56440128449\n",
            "Valid d= 5000 & n =  10995116277760 m =  25738.69055605016\n",
            "Valid d= 5000 & n =  21990232555520 m =  26332.816710815823\n",
            "Valid d= 5000 & n =  43980465111040 m =  26926.94286558149\n",
            "Valid d= 5000 & n =  87960930222080 m =  27521.069020347157\n",
            "Valid d= 5000 & n =  175921860444160 m =  28115.19517511283\n",
            "Valid d= 5000 & n =  351843720888320 m =  28709.321329878498\n",
            "Valid d= 5000 & n =  703687441776640 m =  29303.44748464416\n",
            "Valid d= 5000 & n =  1407374883553280 m =  29897.573639409828\n",
            "Valid d= 5000 & n =  2814749767106560 m =  30491.699794175496\n",
            "Valid d= 5000 & n =  5629499534213120 m =  31085.82594894116\n",
            "Valid d= 5000 & n =  11258999068426240 m =  31679.95210370683\n",
            "Valid d= 5000 & n =  22517998136852480 m =  32274.0782584725\n",
            "Valid d= 5000 & n =  45035996273704960 m =  32868.20441323816\n",
            "Valid d= 5000 & n =  90071992547409920 m =  33462.33056800383\n",
            "Valid d= 5000 & n =  180143985094819840 m =  34056.4567227695\n",
            "Valid d= 5000 & n =  360287970189639680 m =  34650.58287753517\n",
            "Valid d= 5000 & n =  720575940379279360 m =  35244.70903230084\n",
            "Valid d= 5000 & n =  1441151880758558720 m =  35838.8351870665\n",
            "Valid d= 5000 & n =  2882303761517117440 m =  36432.96134183217\n",
            "Valid d= 5000 & n =  5764607523034234880 m =  37027.08749659784\n",
            "Valid d= 5000 & n =  11529215046068469760 m =  37621.213651363505\n"
          ]
        },
        {
          "output_type": "error",
          "ename": "TypeError",
          "evalue": "ignored",
          "traceback": [
            "\u001b[0;31m---------------------------------------------------------------------------\u001b[0m",
            "\u001b[0;31mAttributeError\u001b[0m                            Traceback (most recent call last)",
            "\u001b[0;31mAttributeError\u001b[0m: 'int' object has no attribute 'log'",
            "\nThe above exception was the direct cause of the following exception:\n",
            "\u001b[0;31mTypeError\u001b[0m                                 Traceback (most recent call last)",
            "\u001b[0;32m<ipython-input-23-1564081cca59>\u001b[0m in \u001b[0;36m<cell line: 1>\u001b[0;34m()\u001b[0m\n\u001b[1;32m      1\u001b[0m \u001b[0;32mwhile\u001b[0m \u001b[0;32mTrue\u001b[0m\u001b[0;34m:\u001b[0m\u001b[0;34m\u001b[0m\u001b[0;34m\u001b[0m\u001b[0m\n\u001b[1;32m      2\u001b[0m   \u001b[0mn\u001b[0m \u001b[0;34m=\u001b[0m \u001b[0mn\u001b[0m \u001b[0;34m*\u001b[0m \u001b[0;36m2\u001b[0m\u001b[0;34m\u001b[0m\u001b[0;34m\u001b[0m\u001b[0m\n\u001b[0;32m----> 3\u001b[0;31m   \u001b[0mm\u001b[0m \u001b[0;34m=\u001b[0m \u001b[0;36m4\u001b[0m\u001b[0;34m*\u001b[0m\u001b[0;34m(\u001b[0m\u001b[0mnp\u001b[0m\u001b[0;34m.\u001b[0m\u001b[0mlog\u001b[0m\u001b[0;34m(\u001b[0m\u001b[0mn\u001b[0m\u001b[0;34m)\u001b[0m\u001b[0;34m)\u001b[0m\u001b[0;34m/\u001b[0m\u001b[0mid\u001b[0m\u001b[0;34m\u001b[0m\u001b[0;34m\u001b[0m\u001b[0m\n\u001b[0m\u001b[1;32m      4\u001b[0m   \u001b[0mmatrix\u001b[0m \u001b[0;34m=\u001b[0m \u001b[0mnp\u001b[0m\u001b[0;34m.\u001b[0m\u001b[0midentity\u001b[0m\u001b[0;34m(\u001b[0m\u001b[0md\u001b[0m\u001b[0;34m)\u001b[0m\u001b[0;34m\u001b[0m\u001b[0;34m\u001b[0m\u001b[0m\n\u001b[1;32m      5\u001b[0m   \u001b[0miden\u001b[0m \u001b[0;34m=\u001b[0m \u001b[0mnp\u001b[0m\u001b[0;34m.\u001b[0m\u001b[0mrandom\u001b[0m\u001b[0;34m.\u001b[0m\u001b[0mchoice\u001b[0m\u001b[0;34m(\u001b[0m\u001b[0mmatrix\u001b[0m\u001b[0;34m.\u001b[0m\u001b[0mshape\u001b[0m\u001b[0;34m[\u001b[0m\u001b[0;36m1\u001b[0m\u001b[0;34m]\u001b[0m\u001b[0;34m,\u001b[0m \u001b[0;36m9\u001b[0m\u001b[0;34m,\u001b[0m \u001b[0mreplace\u001b[0m\u001b[0;34m=\u001b[0m\u001b[0;32mFalse\u001b[0m\u001b[0;34m)\u001b[0m\u001b[0;34m\u001b[0m\u001b[0;34m\u001b[0m\u001b[0m\n",
            "\u001b[0;31mTypeError\u001b[0m: loop of ufunc does not support argument 0 of type int which has no callable log method"
          ]
        }
      ]
    },
    {
      "cell_type": "code",
      "source": [
        "print(\"It is clear from the above result that the Johnson-Lindenstrauss Lemma is valid up until the error.\")"
      ],
      "metadata": {
        "colab": {
          "base_uri": "https://localhost:8080/"
        },
        "id": "XXMiQboTRkYu",
        "outputId": "543ba1e1-e7b6-47d9-badd-70dd4a5d1093"
      },
      "id": "XXMiQboTRkYu",
      "execution_count": 24,
      "outputs": [
        {
          "output_type": "stream",
          "name": "stdout",
          "text": [
            "It is clear from the above result that the Johnson-Lindenstrauss Lemma is valid up until the error.\n"
          ]
        }
      ]
    },
    {
      "cell_type": "code",
      "source": [],
      "metadata": {
        "id": "JI5WU6zBSLXd"
      },
      "id": "JI5WU6zBSLXd",
      "execution_count": null,
      "outputs": []
    }
  ],
  "metadata": {
    "kernelspec": {
      "display_name": "Python 3 (ipykernel)",
      "language": "python",
      "name": "python3"
    },
    "language_info": {
      "codemirror_mode": {
        "name": "ipython",
        "version": 3
      },
      "file_extension": ".py",
      "mimetype": "text/x-python",
      "name": "python",
      "nbconvert_exporter": "python",
      "pygments_lexer": "ipython3",
      "version": "3.11.4"
    },
    "colab": {
      "provenance": []
    }
  },
  "nbformat": 4,
  "nbformat_minor": 5
}